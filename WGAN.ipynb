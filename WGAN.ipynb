{
 "cells": [
  {
   "cell_type": "code",
   "execution_count": 1,
   "metadata": {},
   "outputs": [],
   "source": [
    "%matplotlib inline\n",
    "import matplotlib.pyplot as plt\n",
    "import importlib\n",
    "import utils2; importlib.reload(utils2)\n",
    "from utils2 import *\n",
    "\n",
    "import numpy as np \n",
    "\n",
    "import torch_utils; importlib.reload(torch_utils)\n",
    "from torch_utils import *\n",
    "\n",
    "import random \n",
    "from collections import OrderedDict\n",
    "\n",
    "import torch\n",
    "from torchvision import datasets\n",
    "from torchvision import transforms\n",
    "from torch.utils.data import DataLoader\n",
    "from torch import nn\n",
    "import torch.nn.parallel\n",
    "import torch.backends.cudnn as cudnn\n",
    "from torch import optim\n",
    "import torchvision.utils as vutils"
   ]
  },
  {
   "cell_type": "code",
   "execution_count": 2,
   "metadata": {},
   "outputs": [],
   "source": [
    "cudnn.benchmark = True"
   ]
  },
  {
   "cell_type": "code",
   "execution_count": 3,
   "metadata": {},
   "outputs": [],
   "source": [
    "device = 'cuda' if torch.cuda.is_available() else 'cpu'"
   ]
  },
  {
   "cell_type": "code",
   "execution_count": 4,
   "metadata": {},
   "outputs": [
    {
     "name": "stdout",
     "output_type": "stream",
     "text": [
      "653\n"
     ]
    },
    {
     "data": {
      "text/plain": [
       "<torch._C.Generator at 0x14d09a43c110>"
      ]
     },
     "execution_count": 4,
     "metadata": {},
     "output_type": "execute_result"
    }
   ],
   "source": [
    "# Fix seed\n",
    "manual_seed = random.randint(1, 4444)\n",
    "print(manual_seed)\n",
    "random.seed(manual_seed)\n",
    "torch.manual_seed(manual_seed)"
   ]
  },
  {
   "cell_type": "markdown",
   "metadata": {},
   "source": [
    "Use pytorch embedded datasets"
   ]
  },
  {
   "cell_type": "code",
   "execution_count": 5,
   "metadata": {},
   "outputs": [],
   "source": [
    "batch_size = 128\n",
    "ngpu = 2\n",
    "lr = 1e-4\n",
    "num_epochs = 120\n",
    "# Number of channels in the training images. For color images this is 3\n",
    "nc = 3\n",
    "# Size of z latent vector (i.e. size of generator input)\n",
    "nz = 100\n",
    "# Size of feature maps in generator\n",
    "ngf = 64\n",
    "# Size of feature maps in discriminator\n",
    "ndf = 64\n",
    "\n",
    "# Beta1 hyperparam for Adam optimizers\n",
    "beta1 = 0.5"
   ]
  },
  {
   "cell_type": "code",
   "execution_count": 8,
   "metadata": {},
   "outputs": [
    {
     "name": "stdout",
     "output_type": "stream",
     "text": [
      "Files already downloaded and verified\n"
     ]
    }
   ],
   "source": [
    "PATH = 'data/cifar10'\n",
    "data = datasets.CIFAR10(root=PATH, download=True,\n",
    "    transform=transforms.Compose([\n",
    "        transforms.Resize(64),\n",
    "        transforms.ToTensor(),\n",
    "        transforms.Normalize((0.5, 0.5, 0.5), (0.5, 0.5, 0.5)),\n",
    "    ])\n",
    ")"
   ]
  },
  {
   "cell_type": "code",
   "execution_count": 9,
   "metadata": {},
   "outputs": [
    {
     "name": "stderr",
     "output_type": "stream",
     "text": [
      "/home/kexin/.conda/envs/pytorch_env/lib/python3.8/site-packages/torch/utils/data/dataloader.py:474: UserWarning: This DataLoader will create 8 worker processes in total. Our suggested max number of worker in current system is 1, which is smaller than what this DataLoader is going to create. Please be aware that excessive worker creation might get DataLoader running slow or even freeze, lower the worker number to avoid potential slowness/freeze if necessary.\n",
      "  warnings.warn(_create_warning_msg(\n"
     ]
    },
    {
     "data": {
      "text/plain": [
       "391"
      ]
     },
     "execution_count": 9,
     "metadata": {},
     "output_type": "execute_result"
    }
   ],
   "source": [
    "dataloader = DataLoader(data, batch_size = batch_size, shuffle = True, num_workers=8)\n",
    "n = len(dataloader)\n",
    "n"
   ]
  },
  {
   "cell_type": "markdown",
   "metadata": {},
   "source": [
    "## Create Model"
   ]
  },
  {
   "cell_type": "code",
   "execution_count": 10,
   "metadata": {},
   "outputs": [],
   "source": [
    "class Generator(nn.Module): \n",
    "    def __init__(self, ngpu):\n",
    "        super(Generator, self).__init__()\n",
    "        self.ngpu = ngpu\n",
    "        \n",
    "        self.main = nn.Sequential(\n",
    "            nn.ConvTranspose2d(100, 512, 4, 1, 0, bias=False),\n",
    "            nn.BatchNorm2d(512),\n",
    "            nn.ReLU(True),\n",
    "\n",
    "            nn.ConvTranspose2d(512, 256, 4, 2, 1, bias=False),\n",
    "            nn.BatchNorm2d(256),\n",
    "            nn.ReLU(True),\n",
    "\n",
    "            nn.ConvTranspose2d(256, 128, 4, 2, 1, bias=False),\n",
    "            nn.BatchNorm2d(128),\n",
    "            nn.ReLU(True),\n",
    "\n",
    "            nn.ConvTranspose2d(128, 64, 4, 2, 1, bias=False),\n",
    "            nn.BatchNorm2d(64),\n",
    "            nn.ReLU(True),\n",
    "\n",
    "            nn.ConvTranspose2d(64, 3, 4, 2, 1),\n",
    "            nn.Tanh()\n",
    "        )\n",
    "        \n",
    "    def forward(self, input):\n",
    "        return self.main(input)"
   ]
  },
  {
   "cell_type": "code",
   "execution_count": 11,
   "metadata": {},
   "outputs": [],
   "source": [
    "class Discriminator(nn.Module):\n",
    "    def __init__(self, ngpu):\n",
    "        super(Discriminator, self).__init__()\n",
    "        self.ngpu = ngpu\n",
    "        \n",
    "        self.main = nn.Sequential(\n",
    "            nn.Conv2d(3, 64, 4, 2, 1, bias=False),\n",
    "            nn.LeakyReLU(0.2, True),\n",
    "\n",
    "            nn.Conv2d(64, 128, 4, 2, 1, bias=False),\n",
    "            nn.BatchNorm2d(128),\n",
    "            nn.LeakyReLU(0.2, True),\n",
    "\n",
    "            nn.Conv2d(128, 256, 4, 2, 1, bias=False),\n",
    "            nn.BatchNorm2d(256),\n",
    "            nn.LeakyReLU(0.2, True),\n",
    "\n",
    "            nn.Conv2d(256, 512, 4, 2, 1, bias=False),\n",
    "            nn.BatchNorm2d(512),\n",
    "            nn.LeakyReLU(0.2, True),\n",
    "\n",
    "            nn.Conv2d(512, 1, 4, 1, 0),\n",
    "        )\n",
    "        \n",
    "    def forward(self, input): #Returns: A four-dimensional vector (NCHW).\n",
    "        return self.main(input)"
   ]
  },
  {
   "cell_type": "code",
   "execution_count": 12,
   "metadata": {},
   "outputs": [],
   "source": [
    "def weights_init(m):\n",
    "    if isinstance(m, (nn.Conv2d, nn.ConvTranspose2d)):\n",
    "        m.weight.data.normal_(0.0, 0.02)\n",
    "    elif isinstance(m, nn.BatchNorm2d):\n",
    "        m.weight.data.normal_(1.0, 0.02)\n",
    "        m.bias.data.fill_(0)"
   ]
  },
  {
   "cell_type": "code",
   "execution_count": 13,
   "metadata": {},
   "outputs": [
    {
     "data": {
      "text/plain": [
       "DataParallel(\n",
       "  (module): Generator(\n",
       "    (main): Sequential(\n",
       "      (0): ConvTranspose2d(100, 512, kernel_size=(4, 4), stride=(1, 1), bias=False)\n",
       "      (1): BatchNorm2d(512, eps=1e-05, momentum=0.1, affine=True, track_running_stats=True)\n",
       "      (2): ReLU(inplace=True)\n",
       "      (3): ConvTranspose2d(512, 256, kernel_size=(4, 4), stride=(2, 2), padding=(1, 1), bias=False)\n",
       "      (4): BatchNorm2d(256, eps=1e-05, momentum=0.1, affine=True, track_running_stats=True)\n",
       "      (5): ReLU(inplace=True)\n",
       "      (6): ConvTranspose2d(256, 128, kernel_size=(4, 4), stride=(2, 2), padding=(1, 1), bias=False)\n",
       "      (7): BatchNorm2d(128, eps=1e-05, momentum=0.1, affine=True, track_running_stats=True)\n",
       "      (8): ReLU(inplace=True)\n",
       "      (9): ConvTranspose2d(128, 64, kernel_size=(4, 4), stride=(2, 2), padding=(1, 1), bias=False)\n",
       "      (10): BatchNorm2d(64, eps=1e-05, momentum=0.1, affine=True, track_running_stats=True)\n",
       "      (11): ReLU(inplace=True)\n",
       "      (12): ConvTranspose2d(64, 3, kernel_size=(4, 4), stride=(2, 2), padding=(1, 1))\n",
       "      (13): Tanh()\n",
       "    )\n",
       "  )\n",
       ")"
      ]
     },
     "execution_count": 13,
     "metadata": {},
     "output_type": "execute_result"
    }
   ],
   "source": [
    "netG = Generator(ngpu).to(device)\n",
    "\n",
    "# Handle multi-gpu if desired\n",
    "if (device == 'cuda') and (ngpu > 1):\n",
    "    netG = nn.DataParallel(netG, list(range(ngpu)))\n",
    "\n",
    "# Apply the weights_init function to randomly initialize all weights\n",
    "#  to mean=0, stdev=0.2.\n",
    "netG.apply(weights_init)\n",
    "\n",
    "netG"
   ]
  },
  {
   "cell_type": "code",
   "execution_count": 14,
   "metadata": {},
   "outputs": [
    {
     "data": {
      "text/plain": [
       "DataParallel(\n",
       "  (module): Discriminator(\n",
       "    (main): Sequential(\n",
       "      (0): Conv2d(3, 64, kernel_size=(4, 4), stride=(2, 2), padding=(1, 1), bias=False)\n",
       "      (1): LeakyReLU(negative_slope=0.2, inplace=True)\n",
       "      (2): Conv2d(64, 128, kernel_size=(4, 4), stride=(2, 2), padding=(1, 1), bias=False)\n",
       "      (3): BatchNorm2d(128, eps=1e-05, momentum=0.1, affine=True, track_running_stats=True)\n",
       "      (4): LeakyReLU(negative_slope=0.2, inplace=True)\n",
       "      (5): Conv2d(128, 256, kernel_size=(4, 4), stride=(2, 2), padding=(1, 1), bias=False)\n",
       "      (6): BatchNorm2d(256, eps=1e-05, momentum=0.1, affine=True, track_running_stats=True)\n",
       "      (7): LeakyReLU(negative_slope=0.2, inplace=True)\n",
       "      (8): Conv2d(256, 512, kernel_size=(4, 4), stride=(2, 2), padding=(1, 1), bias=False)\n",
       "      (9): BatchNorm2d(512, eps=1e-05, momentum=0.1, affine=True, track_running_stats=True)\n",
       "      (10): LeakyReLU(negative_slope=0.2, inplace=True)\n",
       "      (11): Conv2d(512, 1, kernel_size=(4, 4), stride=(1, 1))\n",
       "    )\n",
       "  )\n",
       ")"
      ]
     },
     "execution_count": 14,
     "metadata": {},
     "output_type": "execute_result"
    }
   ],
   "source": [
    "netD = Discriminator(ngpu).to(device)\n",
    "if (device == 'cuda') and (ngpu > 1):\n",
    "    netD = nn.DataParallel(netD, list(range(ngpu)))\n",
    "netD.apply(weights_init)\n",
    "netD"
   ]
  },
  {
   "cell_type": "code",
   "execution_count": 15,
   "metadata": {},
   "outputs": [],
   "source": [
    "optimizerG = optim.RMSprop(netG.parameters(), lr=lr)\n",
    "optimizerD = optim.RMSprop(netD.parameters(), lr=lr)"
   ]
  },
  {
   "cell_type": "code",
   "execution_count": 16,
   "metadata": {},
   "outputs": [],
   "source": [
    "# Create batch of latent vectors that we will use to visualize\n",
    "#  the progression of the generator\n",
    "fixed_noise = torch.randn(128, nz, 1, 1, device=device)"
   ]
  },
  {
   "cell_type": "markdown",
   "metadata": {},
   "source": [
    "## Training"
   ]
  },
  {
   "cell_type": "code",
   "execution_count": 17,
   "metadata": {},
   "outputs": [],
   "source": [
    "G_losses = []\n",
    "D_losses = []\n",
    "iters = 0"
   ]
  },
  {
   "cell_type": "code",
   "execution_count": 18,
   "metadata": {},
   "outputs": [
    {
     "name": "stdout",
     "output_type": "stream",
     "text": [
      "[0/20][0/391]\tLoss_D: 0.0003\tLoss_G: 0.0706\tD(x): 0.0103\tD(G(z)): 0.0100 / 0.0706\n",
      "[0/20][100/391]\tLoss_D: -0.5546\tLoss_G: 0.3363\tD(x): -0.2519\tD(G(z)): 0.3026 / 0.3363\n",
      "[0/20][200/391]\tLoss_D: -0.4999\tLoss_G: 0.2977\tD(x): -0.2304\tD(G(z)): 0.2695 / 0.2977\n",
      "[0/20][300/391]\tLoss_D: -0.4092\tLoss_G: 0.4294\tD(x): -0.2607\tD(G(z)): 0.1485 / 0.4294\n",
      "[1/20][0/391]\tLoss_D: -0.2960\tLoss_G: -0.0590\tD(x): 0.0484\tD(G(z)): 0.3444 / -0.0590\n",
      "[1/20][100/391]\tLoss_D: -0.3380\tLoss_G: 0.2210\tD(x): -0.1045\tD(G(z)): 0.2334 / 0.2210\n",
      "[1/20][200/391]\tLoss_D: -0.2985\tLoss_G: 0.3798\tD(x): -0.4433\tD(G(z)): -0.1448 / 0.3798\n",
      "[1/20][300/391]\tLoss_D: -0.3399\tLoss_G: -0.0741\tD(x): 0.0206\tD(G(z)): 0.3604 / -0.0741\n",
      "[2/20][0/391]\tLoss_D: -0.4490\tLoss_G: 0.4056\tD(x): -0.3212\tD(G(z)): 0.1277 / 0.4056\n",
      "[2/20][100/391]\tLoss_D: -0.4991\tLoss_G: 0.3626\tD(x): -0.3110\tD(G(z)): 0.1881 / 0.3626\n",
      "[2/20][200/391]\tLoss_D: -0.2792\tLoss_G: 0.0964\tD(x): 0.0864\tD(G(z)): 0.3656 / 0.0964\n",
      "[2/20][300/391]\tLoss_D: -0.4256\tLoss_G: -0.2266\tD(x): -0.0448\tD(G(z)): 0.3808 / -0.2266\n",
      "[3/20][0/391]\tLoss_D: -0.3155\tLoss_G: 0.4034\tD(x): -0.3109\tD(G(z)): 0.0046 / 0.4034\n",
      "[3/20][100/391]\tLoss_D: -0.3015\tLoss_G: 0.3990\tD(x): -0.4149\tD(G(z)): -0.1134 / 0.3990\n",
      "[3/20][200/391]\tLoss_D: -0.2348\tLoss_G: 0.3576\tD(x): -0.4220\tD(G(z)): -0.1872 / 0.3576\n",
      "[3/20][300/391]\tLoss_D: -0.3441\tLoss_G: 0.0635\tD(x): -0.0236\tD(G(z)): 0.3205 / 0.0635\n",
      "[4/20][0/391]\tLoss_D: -0.4079\tLoss_G: 0.1919\tD(x): -0.1785\tD(G(z)): 0.2294 / 0.1919\n",
      "[4/20][100/391]\tLoss_D: -0.3814\tLoss_G: 0.1010\tD(x): -0.0888\tD(G(z)): 0.2926 / 0.1010\n",
      "[4/20][200/391]\tLoss_D: -0.3175\tLoss_G: 0.1784\tD(x): -0.0782\tD(G(z)): 0.2393 / 0.1784\n",
      "[4/20][300/391]\tLoss_D: -0.2008\tLoss_G: 0.3727\tD(x): -0.3562\tD(G(z)): -0.1554 / 0.3727\n",
      "[5/20][0/391]\tLoss_D: -0.1793\tLoss_G: 0.2802\tD(x): 0.0090\tD(G(z)): 0.1883 / 0.2802\n",
      "[5/20][100/391]\tLoss_D: -0.2736\tLoss_G: -0.1154\tD(x): 0.0946\tD(G(z)): 0.3681 / -0.1154\n",
      "[5/20][200/391]\tLoss_D: -0.2851\tLoss_G: -0.0051\tD(x): -0.0092\tD(G(z)): 0.2759 / -0.0051\n",
      "[5/20][300/391]\tLoss_D: -0.1681\tLoss_G: 0.3796\tD(x): -0.3091\tD(G(z)): -0.1410 / 0.3796\n",
      "[6/20][0/391]\tLoss_D: -0.1787\tLoss_G: 0.1905\tD(x): 0.0543\tD(G(z)): 0.2329 / 0.1905\n",
      "[6/20][100/391]\tLoss_D: -0.2536\tLoss_G: 0.0409\tD(x): 0.0208\tD(G(z)): 0.2744 / 0.0409\n",
      "[6/20][200/391]\tLoss_D: -0.2702\tLoss_G: 0.4346\tD(x): -0.3183\tD(G(z)): -0.0481 / 0.4346\n",
      "[6/20][300/391]\tLoss_D: -0.1797\tLoss_G: 0.3963\tD(x): -0.0947\tD(G(z)): 0.0850 / 0.3963\n",
      "[7/20][0/391]\tLoss_D: -0.0991\tLoss_G: 0.3176\tD(x): -0.3374\tD(G(z)): -0.2383 / 0.3176\n",
      "[7/20][100/391]\tLoss_D: -0.2329\tLoss_G: -0.1275\tD(x): 0.0564\tD(G(z)): 0.2894 / -0.1275\n",
      "[7/20][200/391]\tLoss_D: -0.2474\tLoss_G: -0.2313\tD(x): 0.0639\tD(G(z)): 0.3114 / -0.2313\n",
      "[7/20][300/391]\tLoss_D: -0.2417\tLoss_G: -0.1815\tD(x): 0.0669\tD(G(z)): 0.3087 / -0.1815\n",
      "[8/20][0/391]\tLoss_D: -0.1815\tLoss_G: 0.3390\tD(x): -0.4032\tD(G(z)): -0.2217 / 0.3390\n",
      "[8/20][100/391]\tLoss_D: -0.3147\tLoss_G: 0.3248\tD(x): -0.2570\tD(G(z)): 0.0576 / 0.3248\n",
      "[8/20][200/391]\tLoss_D: -0.2440\tLoss_G: 0.1276\tD(x): -0.0746\tD(G(z)): 0.1694 / 0.1276\n",
      "[8/20][300/391]\tLoss_D: -0.2585\tLoss_G: 0.0980\tD(x): -0.0306\tD(G(z)): 0.2279 / 0.0980\n",
      "[9/20][0/391]\tLoss_D: -0.2468\tLoss_G: 0.3956\tD(x): -0.2996\tD(G(z)): -0.0527 / 0.3956\n",
      "[9/20][100/391]\tLoss_D: -0.2792\tLoss_G: -0.2889\tD(x): 0.0483\tD(G(z)): 0.3275 / -0.2889\n",
      "[9/20][200/391]\tLoss_D: -0.2759\tLoss_G: -0.0259\tD(x): -0.0407\tD(G(z)): 0.2352 / -0.0259\n",
      "[9/20][300/391]\tLoss_D: -0.1822\tLoss_G: -0.1295\tD(x): 0.0960\tD(G(z)): 0.2782 / -0.1295\n",
      "[10/20][0/391]\tLoss_D: -0.2274\tLoss_G: 0.3296\tD(x): -0.2628\tD(G(z)): -0.0354 / 0.3296\n",
      "[10/20][100/391]\tLoss_D: -0.1762\tLoss_G: 0.3695\tD(x): -0.3926\tD(G(z)): -0.2164 / 0.3695\n",
      "[10/20][200/391]\tLoss_D: -0.0913\tLoss_G: 0.2309\tD(x): -0.2954\tD(G(z)): -0.2041 / 0.2309\n",
      "[10/20][300/391]\tLoss_D: -0.2166\tLoss_G: 0.3086\tD(x): -0.1652\tD(G(z)): 0.0514 / 0.3086\n",
      "[11/20][0/391]\tLoss_D: -0.2536\tLoss_G: -0.0627\tD(x): 0.0000\tD(G(z)): 0.2537 / -0.0627\n",
      "[11/20][100/391]\tLoss_D: -0.3338\tLoss_G: 0.2836\tD(x): -0.2091\tD(G(z)): 0.1246 / 0.2836\n",
      "[11/20][200/391]\tLoss_D: -0.1719\tLoss_G: 0.3182\tD(x): -0.3986\tD(G(z)): -0.2268 / 0.3182\n",
      "[11/20][300/391]\tLoss_D: -0.2102\tLoss_G: 0.3627\tD(x): -0.3956\tD(G(z)): -0.1854 / 0.3627\n",
      "[12/20][0/391]\tLoss_D: -0.0806\tLoss_G: 0.1228\tD(x): -0.2312\tD(G(z)): -0.1506 / 0.1228\n",
      "[12/20][100/391]\tLoss_D: -0.3089\tLoss_G: 0.4071\tD(x): -0.3215\tD(G(z)): -0.0127 / 0.4071\n",
      "[12/20][200/391]\tLoss_D: -0.1577\tLoss_G: 0.3640\tD(x): -0.3664\tD(G(z)): -0.2087 / 0.3640\n",
      "[12/20][300/391]\tLoss_D: -0.2975\tLoss_G: 0.3377\tD(x): -0.2495\tD(G(z)): 0.0479 / 0.3377\n",
      "[13/20][0/391]\tLoss_D: -0.1724\tLoss_G: 0.0173\tD(x): 0.0798\tD(G(z)): 0.2521 / 0.0173\n",
      "[13/20][100/391]\tLoss_D: -0.2002\tLoss_G: -0.0589\tD(x): 0.0242\tD(G(z)): 0.2244 / -0.0589\n",
      "[13/20][200/391]\tLoss_D: -0.1786\tLoss_G: 0.3869\tD(x): -0.3739\tD(G(z)): -0.1952 / 0.3869\n",
      "[13/20][300/391]\tLoss_D: -0.2740\tLoss_G: 0.3598\tD(x): -0.2839\tD(G(z)): -0.0099 / 0.3598\n",
      "[14/20][0/391]\tLoss_D: -0.1657\tLoss_G: 0.3183\tD(x): -0.3048\tD(G(z)): -0.1391 / 0.3183\n",
      "[14/20][100/391]\tLoss_D: -0.2563\tLoss_G: -0.0669\tD(x): -0.0491\tD(G(z)): 0.2072 / -0.0669\n",
      "[14/20][200/391]\tLoss_D: -0.1075\tLoss_G: 0.2505\tD(x): -0.3926\tD(G(z)): -0.2851 / 0.2505\n",
      "[14/20][300/391]\tLoss_D: -0.2069\tLoss_G: 0.2456\tD(x): -0.1443\tD(G(z)): 0.0627 / 0.2456\n",
      "[15/20][0/391]\tLoss_D: -0.2906\tLoss_G: 0.1782\tD(x): -0.2226\tD(G(z)): 0.0680 / 0.1782\n",
      "[15/20][100/391]\tLoss_D: -0.1095\tLoss_G: 0.2704\tD(x): -0.3977\tD(G(z)): -0.2882 / 0.2704\n",
      "[15/20][200/391]\tLoss_D: -0.2208\tLoss_G: 0.4366\tD(x): -0.3510\tD(G(z)): -0.1302 / 0.4366\n",
      "[15/20][300/391]\tLoss_D: -0.1454\tLoss_G: 0.0371\tD(x): 0.0587\tD(G(z)): 0.2041 / 0.0371\n",
      "[16/20][0/391]\tLoss_D: -0.1147\tLoss_G: 0.1818\tD(x): -0.3415\tD(G(z)): -0.2268 / 0.1818\n",
      "[16/20][100/391]\tLoss_D: -0.2827\tLoss_G: 0.3355\tD(x): -0.2646\tD(G(z)): 0.0180 / 0.3355\n",
      "[16/20][200/391]\tLoss_D: -0.2156\tLoss_G: -0.0464\tD(x): 0.0135\tD(G(z)): 0.2292 / -0.0464\n",
      "[16/20][300/391]\tLoss_D: -0.0949\tLoss_G: 0.3068\tD(x): -0.3995\tD(G(z)): -0.3046 / 0.3068\n",
      "[17/20][0/391]\tLoss_D: -0.2093\tLoss_G: 0.1910\tD(x): -0.1755\tD(G(z)): 0.0339 / 0.1910\n",
      "[17/20][100/391]\tLoss_D: -0.1551\tLoss_G: 0.3458\tD(x): -0.4277\tD(G(z)): -0.2726 / 0.3458\n",
      "[17/20][200/391]\tLoss_D: -0.1269\tLoss_G: -0.0167\tD(x): 0.1248\tD(G(z)): 0.2517 / -0.0167\n",
      "[17/20][300/391]\tLoss_D: -0.2437\tLoss_G: 0.4169\tD(x): -0.3807\tD(G(z)): -0.1371 / 0.4169\n",
      "[18/20][0/391]\tLoss_D: -0.2604\tLoss_G: 0.3691\tD(x): -0.2946\tD(G(z)): -0.0342 / 0.3691\n",
      "[18/20][100/391]\tLoss_D: -0.1396\tLoss_G: 0.4021\tD(x): -0.3157\tD(G(z)): -0.1761 / 0.4021\n",
      "[18/20][200/391]\tLoss_D: -0.2739\tLoss_G: 0.0168\tD(x): -0.0966\tD(G(z)): 0.1773 / 0.0168\n",
      "[18/20][300/391]\tLoss_D: -0.2181\tLoss_G: -0.2356\tD(x): 0.1804\tD(G(z)): 0.3986 / -0.2356\n",
      "[19/20][0/391]\tLoss_D: -0.2265\tLoss_G: 0.3531\tD(x): -0.3040\tD(G(z)): -0.0775 / 0.3531\n",
      "[19/20][100/391]\tLoss_D: -0.2568\tLoss_G: 0.4012\tD(x): -0.3727\tD(G(z)): -0.1159 / 0.4012\n",
      "[19/20][200/391]\tLoss_D: -0.2928\tLoss_G: -0.2918\tD(x): 0.1302\tD(G(z)): 0.4230 / -0.2918\n",
      "[19/20][300/391]\tLoss_D: -0.2758\tLoss_G: -0.0342\tD(x): -0.0095\tD(G(z)): 0.2664 / -0.0342\n"
     ]
    }
   ],
   "source": [
    "num_epochs = 20\n",
    "\n",
    "for epoch in range(num_epochs):\n",
    "#     one = torch.FloatTensor([1]).to(device)\n",
    "#     mone = one * -1.to(device)\n",
    "    for i, data in enumerate(dataloader, 0):\n",
    "\n",
    "        ############################\n",
    "        # (1) Update D network: maximize log(D(x)) - log(D(G(z)))\n",
    "        ###########################\n",
    "        ## Train with all-real batch\n",
    "        netD.zero_grad()\n",
    "        \n",
    "        # Clip weights of discriminator\n",
    "        for p in netD.parameters():\n",
    "            p.data.clamp_(-0.01, 0.01)\n",
    "            \n",
    "        # Format batch\n",
    "        real_cpu = data[0].to(device)\n",
    "        b_size = real_cpu.size(0)\n",
    "        # Forward pass real batch through D\n",
    "        output = netD(real_cpu).view(-1)\n",
    "        # Calculate loss on all-real batch\n",
    "        errD_real = torch.mean(output)\n",
    "        # Calculate gradients for D in backward pass\n",
    "        \n",
    "        D_x = output.mean().item()\n",
    "        errD_real.backward()\n",
    "\n",
    "        ## Train with all-fake batch\n",
    "        # Generate batch of latent vectors\n",
    "        noise = torch.randn(b_size, nz, 1, 1, device=device)\n",
    "        # Generate fake image batch with G\n",
    "        fake = netG(noise)\n",
    "        # Classify all fake batch with D\n",
    "        output = netD(fake.detach()).view(-1)\n",
    "        # Calculate D's loss on the all-fake batch\n",
    "        errD_fake = -torch.mean(output)\n",
    "        # Calculate the gradients for this batch, accumulated (summed) with previous gradients\n",
    "        D_G_z1 = output.mean().item()\n",
    "        errD_fake.backward()\n",
    "        # Compute error of D as sum over the fake and the real batches\n",
    "        errD = errD_real + errD_fake\n",
    "        # Update D\n",
    "        optimizerD.step()\n",
    "\n",
    "       \n",
    "\n",
    "        ############################\n",
    "        # (2) Update G network: maximize log(D(G(z)))\n",
    "        ###########################\n",
    "        netG.zero_grad()\n",
    "        # Since we just updated D, perform another forward pass of all-fake batch through D\n",
    "        output = netD(fake).view(-1)\n",
    "        # Calculate G's loss based on this output\n",
    "        errG = torch.mean(output)\n",
    "        # Calculate gradients for G\n",
    "        D_G_z2 = output.mean().item()\n",
    "        errG.backward()\n",
    "        # Update G\n",
    "        optimizerG.step()\n",
    "\n",
    "\n",
    "        # Output training stats\n",
    "        if i % 100 == 0:\n",
    "            print('[%d/%d][%d/%d]\\tLoss_D: %.4f\\tLoss_G: %.4f\\tD(x): %.4f\\tD(G(z)): %.4f / %.4f'\n",
    "                  % (epoch, num_epochs, i, len(dataloader),\n",
    "                     errD.item(), errG.item(), D_x, D_G_z1, D_G_z2))\n",
    "\n",
    "        # Save Losses for plotting later\n",
    "        G_losses.append(errG.item())\n",
    "        D_losses.append(errD.item())\n",
    "\n",
    "        # Check how the generator is doing by saving G's output on fixed_noise\n",
    "        if (iters % 100 == 0) or ((epoch == num_epochs-1) and (i == len(dataloader)-1)):\n",
    "            with torch.no_grad():\n",
    "                fake = netG(fixed_noise).detach()\n",
    "            vutils.save_image(real_cpu, 'output/WGAN/real_samples.png', normalize=True)\n",
    "            vutils.save_image(fake, 'output/WGAN/fake_samples_epoch_%03d.png' % epoch, normalize=True)\n",
    "\n",
    "        # Check pointing for every epoch\n",
    "        torch.save(netG.state_dict(), 'weights/WGAN/netG_epoch_%d.pth' % (epoch))\n",
    "        torch.save(netD.state_dict(), 'weights/WGAN/netD_epoch_%d.pth' % (epoch))\n",
    "\n",
    "        iters += 1\n"
   ]
  },
  {
   "cell_type": "code",
   "execution_count": 19,
   "metadata": {},
   "outputs": [
    {
     "data": {
      "image/png": "[encoded data removed]",
      "text/plain": [
       "<Figure size 720x360 with 1 Axes>"
      ]
     },
     "metadata": {
      "needs_background": "light"
     },
     "output_type": "display_data"
    }
   ],
   "source": [
    "plt.figure(figsize=(10,5))\n",
    "plt.title(\"Generator and Discriminator Loss During Training\")\n",
    "plt.plot(G_losses,label=\"G\")\n",
    "plt.plot(D_losses,label=\"D\")\n",
    "plt.xlabel(\"iterations\")\n",
    "plt.ylabel(\"Loss\")\n",
    "plt.legend()\n",
    "plt.show()"
   ]
  },
  {
   "cell_type": "code",
   "execution_count": null,
   "metadata": {},
   "outputs": [],
   "source": [
    "vutils.save_image(real_cpu, 'output/WGAN/real/real.png', normalize=True)\n",
    "vutils.save_image(fake, 'output/WGAN/fake/fake.png', normalize=True)"
   ]
  },
  {
   "cell_type": "code",
   "execution_count": null,
   "metadata": {},
   "outputs": [],
   "source": []
  }
 ],
 "metadata": {
  "kernelspec": {
   "display_name": "Pytorch",
   "language": "python",
   "name": "pytorch_env"
  },
  "language_info": {
   "codemirror_mode": {
    "name": "ipython",
    "version": 3
   },
   "file_extension": ".py",
   "mimetype": "text/x-python",
   "name": "python",
   "nbconvert_exporter": "python",
   "pygments_lexer": "ipython3",
   "version": "3.8.3"
  }
 },
 "nbformat": 4,
 "nbformat_minor": 4
}
